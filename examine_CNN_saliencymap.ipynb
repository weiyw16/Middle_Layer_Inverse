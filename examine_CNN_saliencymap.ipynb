{
  "nbformat": 4,
  "nbformat_minor": 0,
  "metadata": {
    "colab": {
      "provenance": [],
      "toc_visible": true,
      "authorship_tag": "ABX9TyPR8NlsaOrnRUsnqV+NXaRC",
      "include_colab_link": true
    },
    "kernelspec": {
      "name": "python3",
      "display_name": "Python 3"
    },
    "language_info": {
      "name": "python"
    }
  },
  "cells": [
    {
      "cell_type": "markdown",
      "metadata": {
        "id": "view-in-github",
        "colab_type": "text"
      },
      "source": [
        "<a href=\"https://colab.research.google.com/github/weiyw16/Middle_Layer_Inverse/blob/main/examine_CNN_saliencymap.ipynb\" target=\"_parent\"><img src=\"https://colab.research.google.com/assets/colab-badge.svg\" alt=\"Open In Colab\"/></a>"
      ]
    },
    {
      "cell_type": "code",
      "execution_count": 2,
      "metadata": {
        "colab": {
          "base_uri": "https://localhost:8080/"
        },
        "id": "wOUobcJ3VfkJ",
        "outputId": "ea14271f-77ad-4cb5-fc50-88c76e6353c0"
      },
      "outputs": [
        {
          "output_type": "stream",
          "name": "stdout",
          "text": [
            "Running on device: cpu\n"
          ]
        }
      ],
      "source": [
        "# requirements\n",
        "import os\n",
        "import numpy as np\n",
        "import matplotlib.pyplot as plt\n",
        "import matplotlib.colors as pcl\n",
        "import torch\n",
        "import torch.nn.functional as F\n",
        "from torch.autograd import Variable\n",
        "mydevice = torch.device('cuda:' + str(0) if torch.cuda.is_available() else \"cpu\")\n",
        "print(f\"Running on device: {mydevice}\")"
      ]
    },
    {
      "cell_type": "code",
      "source": [
        "# functions\n",
        "\n",
        "## backward Conv2d(bias) + ReLu\n",
        "def manual_backward_conv(alyer1=None, weigh=None, \n",
        "                         n0=2048, n1=128, s0=2, s1=2, p0=1, p1=1):\n",
        "  '''\n",
        "  layer 0: [n0, n1]\n",
        "  alyer1 : data of layer 1 \n",
        "  weigh  : weight of kernel in the convolutional layer\n",
        "  s0, s1 : stride of kernel\n",
        "  p0, p1 : padding of kernel\n",
        "\n",
        "  return\n",
        "  glyer0 : gradient of layer 0\n",
        "  '''\n",
        "  # init\n",
        "  glyer0 = np.zeros((n0+2*p0, n1+2*p1))\n",
        "  [k0,k1] = weigh.shape\n",
        "  # reverse ReLu\n",
        "  alyer1[alyer1 > 0] = 1\n",
        "  # reverse conv\n",
        "  for ii in range(alyer1.shape[0]):\n",
        "    for jj in range(alyer1.shape[1]):\n",
        "        glyer0[s0*ii:s0*ii+k0, s1*jj:s1*jj+k1] += weigh * alyer1[ii, jj]\n",
        "        \n",
        "  return glyer0[p0:p0+n0, p1:p1+n1]\n",
        "      \n"
      ],
      "metadata": {
        "id": "qct3m7xUXIbZ"
      },
      "execution_count": 13,
      "outputs": []
    },
    {
      "cell_type": "code",
      "source": [
        "# function\n",
        "def plot_1(OUT=None, scale=None, saveflag=None, savename=None, scratio=128/1200):\n",
        "    '''\n",
        "    :param OUT: the target array to plot\n",
        "    :param scale: plot scaling\n",
        "    :return:  None\n",
        "    '''    \n",
        "    # scale case 1\n",
        "    sc1 = OUT.mean() - scale*OUT.std()\n",
        "    sc2 = OUT.mean() + scale*OUT.std()\n",
        "    cN = pcl.Normalize(vmin=sc1, vmax=sc2)\n",
        "\n",
        "    # plotting\n",
        "    fig, ax = plt.subplots(figsize=(4,4))\n",
        "    im = ax.imshow(OUT, aspect=scratio, cmap='seismic', norm=cN, interpolation='bicubic')\n",
        "    \n",
        "    plt.colorbar(im, shrink=0.3, orientation='horizontal')\n",
        "    plt.axis('off')\n",
        "    \n",
        "    saveflag = False\n",
        "    if saveflag:\n",
        "        plt.savefig(savename, dpi=300, bbox_inches=\"tight\")"
      ],
      "metadata": {
        "id": "yQu7MdkvbZpv"
      },
      "execution_count": 6,
      "outputs": []
    },
    {
      "cell_type": "code",
      "source": [
        "## example\n",
        "\n",
        "# init\n",
        "x = torch.ones(1,1,4,4, requires_grad=True)\n",
        "w = torch.ones(1, 1, 3, 3, requires_grad=False) \n",
        "bias = np.array([-4])\n",
        "biasT = torch.from_numpy(bias).to(torch.float32)\n",
        "self_relu = torch.nn.ReLU(inplace=True)\n",
        "# forward\n",
        "y = F.conv2d(x, w, bias=biasT, stride=2, padding=1)\n",
        "z = y\n",
        "z = self_relu(z)\n",
        "out = z.sum()\n",
        "\n",
        "print(f\"x,{x}\")\n",
        "print(f\"w,{w}\")\n",
        "print(f\"y,{y}\")\n",
        "print(f\"z,{z}\")\n",
        "print(f\"out,{out}\")\n",
        "\n",
        "# backward\n",
        "out.backward()\n",
        "ref_grad = x.grad\n",
        "print(ref_grad)\n",
        "\n",
        "# manually backward\n",
        "manu_grad = manual_backward_conv(alyer1=z[0,0,:,:].detach().numpy(), \n",
        "                                 weigh=w[0,0,:,:].numpy(), \n",
        "                                 n0=4, n1=4, s0=2, s1=2, p0=1, p1=1)\n",
        "\n",
        "# difference between manully backward and Pytorch auto backward\n",
        "diff = manu_grad - ref_grad.detach().numpy()\n",
        "print(f\"diff: {diff}\")"
      ],
      "metadata": {
        "colab": {
          "base_uri": "https://localhost:8080/"
        },
        "id": "UFjdba3UaJnD",
        "outputId": "ca1260da-4abf-414f-f476-c3e1c1e136d1"
      },
      "execution_count": 17,
      "outputs": [
        {
          "output_type": "stream",
          "name": "stdout",
          "text": [
            "x,tensor([[[[1., 1., 1., 1.],\n",
            "          [1., 1., 1., 1.],\n",
            "          [1., 1., 1., 1.],\n",
            "          [1., 1., 1., 1.]]]], requires_grad=True)\n",
            "w,tensor([[[[1., 1., 1.],\n",
            "          [1., 1., 1.],\n",
            "          [1., 1., 1.]]]])\n",
            "y,tensor([[[[0., 2.],\n",
            "          [2., 5.]]]], grad_fn=<ReluBackward0>)\n",
            "z,tensor([[[[0., 2.],\n",
            "          [2., 5.]]]], grad_fn=<ReluBackward0>)\n",
            "out,9.0\n",
            "tensor([[[[0., 1., 1., 1.],\n",
            "          [1., 3., 2., 2.],\n",
            "          [1., 2., 1., 1.],\n",
            "          [1., 2., 1., 1.]]]])\n",
            "diff: [[[[0. 0. 0. 0.]\n",
            "   [0. 0. 0. 0.]\n",
            "   [0. 0. 0. 0.]\n",
            "   [0. 0. 0. 0.]]]]\n"
          ]
        }
      ]
    },
    {
      "cell_type": "code",
      "source": [
        "plot_1(OUT=manu_grad, scale=0.1, saveflag=None, savename=None, scratio=1)"
      ],
      "metadata": {
        "colab": {
          "base_uri": "https://localhost:8080/",
          "height": 236
        },
        "id": "McuKzfsiaxaT",
        "outputId": "8507d49d-813e-4ba7-a891-d5aa42fa76c0"
      },
      "execution_count": 18,
      "outputs": [
        {
          "output_type": "display_data",
          "data": {
            "text/plain": [
              "<Figure size 288x288 with 2 Axes>"
            ],
            "image/png": "[encoded data removed]"
          },
          "metadata": {
            "needs_background": "light"
          }
        }
      ]
    },
    {
      "cell_type": "code",
      "source": [],
      "metadata": {
        "id": "1gCYfAz2dVPi"
      },
      "execution_count": null,
      "outputs": []
    }
  ]
}